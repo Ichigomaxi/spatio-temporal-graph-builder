{
 "cells": [
  {
   "cell_type": "code",
   "execution_count": 1,
   "metadata": {},
   "outputs": [],
   "source": [
    "import numpy as np\n",
    "from numpy.core.fromnumeric import shape\n",
    "import os"
   ]
  },
  {
   "cell_type": "code",
   "execution_count": 2,
   "metadata": {},
   "outputs": [
    {
     "name": "stdout",
     "output_type": "stream",
     "text": [
      "======\n",
      "Loading NuScenes tables for version v1.0-mini...\n",
      "23 category,\n",
      "8 attribute,\n",
      "4 visibility,\n",
      "911 instance,\n",
      "12 sensor,\n",
      "120 calibrated_sensor,\n",
      "31206 ego_pose,\n",
      "8 log,\n",
      "10 scene,\n",
      "404 sample,\n",
      "31206 sample_data,\n",
      "18538 sample_annotation,\n",
      "4 map,\n",
      "Done loading in 0.606 seconds.\n",
      "======\n",
      "Reverse indexing ...\n",
      "Done reverse indexing in 0.1 seconds.\n",
      "======\n"
     ]
    }
   ],
   "source": [
    "%matplotlib inline\n",
    "from nuscenes.nuscenes import NuScenes\n",
    "\n",
    "nusc = NuScenes(version='v1.0-mini', dataroot='/home/max/projects/masterthesis/mini_nuscenes', verbose=True)"
   ]
  },
  {
   "cell_type": "code",
   "execution_count": 3,
   "metadata": {},
   "outputs": [
    {
     "name": "stdout",
     "output_type": "stream",
     "text": [
      "scene-0061, Parked truck, construction, intersectio... [18-07-24 03:28:47]   19s, singapore-onenorth, #anns:4622\n",
      "scene-0103, Many peds right, wait for turning car, ... [18-08-01 19:26:43]   19s, boston-seaport, #anns:2046\n",
      "scene-0655, Parking lot, parked cars, jaywalker, be... [18-08-27 15:51:32]   20s, boston-seaport, #anns:2332\n",
      "scene-0553, Wait at intersection, bicycle, large tr... [18-08-28 20:48:16]   20s, boston-seaport, #anns:1950\n",
      "scene-0757, Arrive at busy intersection, bus, wait ... [18-08-30 19:25:08]   20s, boston-seaport, #anns:592\n",
      "scene-0796, Scooter, peds on sidewalk, bus, cars, t... [18-10-02 02:52:24]   20s, singapore-queensto, #anns:708\n",
      "scene-0916, Parking lot, bicycle rack, parked bicyc... [18-10-08 07:37:13]   20s, singapore-queensto, #anns:2387\n",
      "scene-1077, Night, big street, bus stop, high speed... [18-11-21 11:39:27]   20s, singapore-hollandv, #anns:890\n",
      "scene-1094, Night, after rain, many peds, PMD, ped ... [18-11-21 11:47:27]   19s, singapore-hollandv, #anns:1762\n",
      "scene-1100, Night, peds in sidewalk, peds cross cro... [18-11-21 11:49:47]   19s, singapore-hollandv, #anns:935\n"
     ]
    }
   ],
   "source": [
    "# Load last 3 point clouds\n",
    "#############################3\n",
    "# Print List of scenes\n",
    "nusc.list_scenes()\n",
    "\n",
    "#Get set of scenes\n",
    "scenes = nusc.scene\n",
    "#Get first scenes\n",
    "scene_0 = scenes[0]\n",
    "# Get token of first frame\n",
    "first_sample_token = scene_0['first_sample_token']\n",
    "sample_0 = nusc.get('sample', first_sample_token)\n",
    "# Get tokens for 2 following frames\n",
    "second_sample_token = sample_0['next']\n",
    "sample_1 = nusc.get('sample', second_sample_token)\n",
    "third_sample_token = sample_1['next']\n",
    "sample_2 = nusc.get('sample', third_sample_token)"
   ]
  },
  {
   "cell_type": "code",
   "execution_count": 4,
   "metadata": {},
   "outputs": [
    {
     "data": {
      "text/plain": [
       "{'token': '39586f9d59004284a7114a68825e8eec',\n",
       " 'timestamp': 1532402928147847,\n",
       " 'prev': 'ca9a282c9e77460f8360f564131a8af5',\n",
       " 'next': '356d81f38dd9473ba590f39e266f54e5',\n",
       " 'scene_token': 'cc8c0bf57f984915a77078b10eb33198',\n",
       " 'data': {'RADAR_FRONT': 'b70cefb08263499eb30c7e7da0031428',\n",
       "  'RADAR_FRONT_LEFT': 'b5cd02b25f0944f19c0d123fa1fc54ec',\n",
       "  'RADAR_FRONT_RIGHT': '9b628ce4952a4a839962b77a76630e23',\n",
       "  'RADAR_BACK_LEFT': '28b610ada2b545d1a5a1bf9d08af0285',\n",
       "  'RADAR_BACK_RIGHT': '07a62118eb3b43ffa1d833f250ff6f80',\n",
       "  'LIDAR_TOP': '4f792c8da81e4cb7aca1790654da1c27',\n",
       "  'CAM_FRONT': '4b6870ae200c4b969b91c50a9737f712',\n",
       "  'CAM_FRONT_RIGHT': '5c026763ad8146e89c6ee53da26331dc',\n",
       "  'CAM_BACK_RIGHT': 'c339f7629fdf4c219e30ca1790b53773',\n",
       "  'CAM_BACK': '661d9842bbb44b208f867f2061c4f535',\n",
       "  'CAM_BACK_LEFT': '9320f00a62c24b80972048de7a742b4c',\n",
       "  'CAM_FRONT_LEFT': '2b9d52c5c777455eb31831860c6fc117'},\n",
       " 'anns': ['7987617983634b119e383d8a29607fd7',\n",
       "  '216bbbd8e01c450a8fabe9d47433c10a',\n",
       "  'f0cbd9dbafd74e20bcf6dd0357c97f59',\n",
       "  'fa50c062687e4464a61a8b0573a10c22',\n",
       "  'e958e94168224872a04b92c4a01b8969',\n",
       "  '86214ec54d034a839ee1f400719d49b2',\n",
       "  'b343000164024be9b8572a618e355f1b',\n",
       "  '8161dbd026154299827eb67bf053ecc3',\n",
       "  '75ac043ddcec4ae0851ddc55dc8daaa3',\n",
       "  'aeb21de4f59a4691824913ed70503382',\n",
       "  'd30007cfae714a6d8ef0cf2dd2c6f11f',\n",
       "  '92ccde9818424044a35666b849d69604',\n",
       "  'f7bd5e1eb03d42129d3028556126550c',\n",
       "  '3d21c6f374b045b38199753eefb4b4c9',\n",
       "  '8746d5fa037546f7b9e828136d5b3f93',\n",
       "  'b513ebe5caff4775a0dfacc7e3a5444e',\n",
       "  '91e697e7cef44ceea98e0e9b936dd6d1',\n",
       "  'a286c9633fa34da5b978758f348996b0',\n",
       "  'e8d06e222fcf4d73a489b47372395c77',\n",
       "  'f3721bdfd7ee4fd2a4f94874286df471',\n",
       "  '7e077a909fda478caedde939b6114202',\n",
       "  'c7b83d36eeee4fa4bfd1f565aaa8acdb',\n",
       "  'ccc807889c0447aca7506483a5039e3f',\n",
       "  '33e241c339a64d8d9154f2e2e895a6a5',\n",
       "  'bc1d4ea644d1481e9ec4294194d8b36e',\n",
       "  '596a48b4ae9a4e39abf73a769ecd57b6',\n",
       "  '0d5ecc64875b4c449644820e90cf370c',\n",
       "  '0b0faa191f5e4ca493a0138c9c638a10',\n",
       "  '91937fcf68224fbd97ec4de10ec4e447',\n",
       "  '0c2e8cc786ef466aa57220124064f9bc',\n",
       "  '7788c8da648a4cacbc1162170b60d251',\n",
       "  'a54c5f88cde94ec7b85c805d7508977e',\n",
       "  '8cd7a57d01fd414ebd876b941385412f',\n",
       "  '207b68a889234a67a3e7293577a92c6f',\n",
       "  'a585b19590f24cfda029e0146939e59d',\n",
       "  '87d1cd0a2e2f4df98c6284a82db7a825',\n",
       "  'c0e4421e1f0d461888fae1ca02b282a5',\n",
       "  '148b3b0a63434e8d8dd0c2b56dcc4fa5',\n",
       "  '7eec555789624d289c858d00bbd2e536',\n",
       "  'daaf3497584b483d9ece486193d19253',\n",
       "  'bb732bdb7db44e988f601e86a507bad9',\n",
       "  '4784de4304d2419dbddb9aba2748fa69',\n",
       "  '9068983ddd8d4350b100b9aeca46513e',\n",
       "  '6bd43869a39842d5860364b5274d011f',\n",
       "  'ce7bc7f5f1204c0bafcb7d324fb1010e',\n",
       "  '56d7672e42344cffacac1f63eac22399',\n",
       "  '787ce4c9d8e840d399c390e259fa62d4',\n",
       "  'd665640e61b44fd3b8eb0f5bf22500d0',\n",
       "  '4fb160492de64e00b76f4e316c19cb1c',\n",
       "  '0987293d3d1442ac90a734bd46ab5806',\n",
       "  'fff98c3617674b27b0a3de1e4c349f38',\n",
       "  'defab169e0ef44968e7be7a1eb8206f6',\n",
       "  '94c8df8118124c4eab2bcd174b067361',\n",
       "  '20ab41cb3717401c9110337f6df5b503',\n",
       "  '4d0ee98ebc4f42bbbf5e56f9060f27cf',\n",
       "  'bc6607bc76414e45bbfd3c4d7e0f9b75',\n",
       "  '5a8d17e460b845f09c234825f6105f72',\n",
       "  '77683fc2daa343d4b4c53271d955c70b',\n",
       "  'e19bcee3376d4eb290f535351fba9584',\n",
       "  '439996c12d594d84a1b941e80ba5a5a4',\n",
       "  '51f9796d6dc845568604e234e18b1d5f',\n",
       "  'bc306bd900d348429ff25d2cfde3e32d',\n",
       "  '44e1ff031bfb4079969d37f3985d58e1',\n",
       "  'c558f6c905f14aaf834040c49ab65be9',\n",
       "  '1801e160a84945a98351291cbeabfb1a',\n",
       "  '4c11366a4a34421ea93e64e921c694dd',\n",
       "  '9ed7c37eeefb4fa7be2caadff3b7e778',\n",
       "  '0e2f39f80e3647fdbd27fa0bcea8be40',\n",
       "  'f81a1d5a7dc449c4aa2e385265ba87d6',\n",
       "  'ae589a5a2bdb4813ae8021cd51b7e6eb',\n",
       "  'efd7920348664b34a0b213698e480e21',\n",
       "  '48474dd075e6454b8fa25682b3133f10',\n",
       "  'c2fc09130a1d43a4a04a29a48fdebe2c',\n",
       "  '12dbd66c80ab4335ba0c97f7b4839952',\n",
       "  'cca7cd489fdf47dc9419a8bd27a09af4',\n",
       "  '84895462e744418abedd7cfef913c09f',\n",
       "  '99f1a004b89d4d129be1aa441f706c84',\n",
       "  'c5774936c46742ce9ef427016bc3ac6e']}"
      ]
     },
     "execution_count": 4,
     "metadata": {},
     "output_type": "execute_result"
    }
   ],
   "source": [
    "sample_1"
   ]
  },
  {
   "cell_type": "code",
   "execution_count": 5,
   "metadata": {},
   "outputs": [
    {
     "data": {
      "text/plain": [
       "{'token': '9d9bf11fb0e144c8b446d54a8a00184f',\n",
       " 'sample_token': 'ca9a282c9e77460f8360f564131a8af5',\n",
       " 'ego_pose_token': '9d9bf11fb0e144c8b446d54a8a00184f',\n",
       " 'calibrated_sensor_token': 'a183049901c24361a6b0b11b8013137c',\n",
       " 'timestamp': 1532402927647951,\n",
       " 'fileformat': 'pcd',\n",
       " 'is_key_frame': True,\n",
       " 'height': 0,\n",
       " 'width': 0,\n",
       " 'filename': 'samples/LIDAR_TOP/n015-2018-07-24-11-22-45+0800__LIDAR_TOP__1532402927647951.pcd.bin',\n",
       " 'prev': '',\n",
       " 'next': '0cedf1d2d652468d92d23491136b5d15',\n",
       " 'sensor_modality': 'lidar',\n",
       " 'channel': 'LIDAR_TOP'}"
      ]
     },
     "execution_count": 5,
     "metadata": {},
     "output_type": "execute_result"
    }
   ],
   "source": [
    "# Get LIDAR pointcloud\n",
    "sensor = 'LIDAR_TOP'\n",
    "lidar_top_data_0 = nusc.get('sample_data', sample_0['data'][sensor])\n",
    "lidar_top_data_0"
   ]
  },
  {
   "cell_type": "code",
   "execution_count": 6,
   "metadata": {},
   "outputs": [
    {
     "name": "stdout",
     "output_type": "stream",
     "text": [
      "{'token': '4f792c8da81e4cb7aca1790654da1c27', 'sample_token': '39586f9d59004284a7114a68825e8eec', 'ego_pose_token': '4f792c8da81e4cb7aca1790654da1c27', 'calibrated_sensor_token': 'a183049901c24361a6b0b11b8013137c', 'timestamp': 1532402928147847, 'fileformat': 'pcd', 'is_key_frame': True, 'height': 0, 'width': 0, 'filename': 'samples/LIDAR_TOP/n015-2018-07-24-11-22-45+0800__LIDAR_TOP__1532402928147847.pcd.bin', 'prev': '6c68f70d05d74994817f11131fb21f3d', 'next': '38f3e46f0845441295e639bc5a4e24ca', 'sensor_modality': 'lidar', 'channel': 'LIDAR_TOP'}\n"
     ]
    },
    {
     "data": {
      "text/plain": [
       "{'token': '28aaabeb212146a28a511858c09cf20c',\n",
       " 'sample_token': '356d81f38dd9473ba590f39e266f54e5',\n",
       " 'ego_pose_token': '28aaabeb212146a28a511858c09cf20c',\n",
       " 'calibrated_sensor_token': 'a183049901c24361a6b0b11b8013137c',\n",
       " 'timestamp': 1532402928698048,\n",
       " 'fileformat': 'pcd',\n",
       " 'is_key_frame': True,\n",
       " 'height': 0,\n",
       " 'width': 0,\n",
       " 'filename': 'samples/LIDAR_TOP/n015-2018-07-24-11-22-45+0800__LIDAR_TOP__1532402928698048.pcd.bin',\n",
       " 'prev': '46aae6c1703e4bd08b4e1d2918eaf724',\n",
       " 'next': 'b0a057549fb24e938f94f717c4f7446a',\n",
       " 'sensor_modality': 'lidar',\n",
       " 'channel': 'LIDAR_TOP'}"
      ]
     },
     "execution_count": 6,
     "metadata": {},
     "output_type": "execute_result"
    }
   ],
   "source": [
    "# Get LIDAR KF pointcloud\n",
    "lidar_top_data_1 = nusc.get('sample_data', sample_1['data'][sensor])\n",
    "assert lidar_top_data_1['is_key_frame'] == True\n",
    "print(lidar_top_data_1)\n",
    "\n",
    "# Get LIDAR KF pointcloud\n",
    "lidar_top_data_2 = nusc.get('sample_data', sample_2['data'][sensor])\n",
    "assert lidar_top_data_2['is_key_frame'] == True\n",
    "lidar_top_data_2"
   ]
  },
  {
   "cell_type": "code",
   "execution_count": 7,
   "metadata": {},
   "outputs": [],
   "source": [
    "# nusc.render_sample_data(lidar_top_data_0['token'])\n",
    "# nusc.render_sample_data(lidar_top_data_1['token'])\n",
    "# nusc.render_sample_data(lidar_top_data_2['token'])"
   ]
  },
  {
   "cell_type": "code",
   "execution_count": 8,
   "metadata": {},
   "outputs": [],
   "source": [
    "# Get point clouds\n",
    "import os.path as osp\n",
    "from nuscenes.utils.data_classes import LidarPointCloud, Box\n",
    "\n",
    "pcl0_path = osp.join(nusc.dataroot, lidar_top_data_0['filename'])\n",
    "pcl1_path = osp.join(nusc.dataroot, lidar_top_data_1['filename'])\n",
    "pcl2_path = osp.join(nusc.dataroot, lidar_top_data_2['filename'])\n",
    "#Load Pointclouds\n",
    "pc0 = LidarPointCloud.from_file(pcl0_path)\n",
    "pc1 = LidarPointCloud.from_file(pcl1_path)\n",
    "pc2 = LidarPointCloud.from_file(pcl2_path)"
   ]
  },
  {
   "cell_type": "code",
   "execution_count": 9,
   "metadata": {},
   "outputs": [],
   "source": [
    "# Get set of object centers\n",
    "\n",
    "_, boxes0, _= nusc.get_sample_data(lidar_top_data_0['token'], selected_anntokens=None, use_flat_vehicle_coordinates =False)\n",
    "_, boxes1, _= nusc.get_sample_data(lidar_top_data_1['token'], selected_anntokens=None, use_flat_vehicle_coordinates =False)\n",
    "_, boxes2, _= nusc.get_sample_data(lidar_top_data_2['token'], selected_anntokens=None, use_flat_vehicle_coordinates =False)\n",
    "# for box in boxes:\n",
    "    # c = np.array(self.get_color(box.name)) / 255.0\n",
    "    # box.render(axes[0], view=view, colors=(c, c, c))\n",
    "    # corners = view_points(boxes[0].corners(), view, False)[:2, :]"
   ]
  },
  {
   "cell_type": "code",
   "execution_count": 10,
   "metadata": {},
   "outputs": [
    {
     "name": "stdout",
     "output_type": "stream",
     "text": [
      "rows: 4\n",
      "columns: 34688\n"
     ]
    }
   ],
   "source": [
    "# Load point clouds\n",
    "pc0.points\n",
    "\n",
    "print(\"rows:\",np.size(pc0.points,0))\n",
    "print(\"columns:\",np.size(pc0.points,1))\n"
   ]
  },
  {
   "cell_type": "code",
   "execution_count": 11,
   "metadata": {},
   "outputs": [
    {
     "data": {
      "image/png": "[encoded data removed]",
      "text/plain": [
       "<Figure size 576x576 with 1 Axes>"
      ]
     },
     "metadata": {
      "needs_background": "light"
     },
     "output_type": "display_data"
    }
   ],
   "source": [
    "import matplotlib.pyplot as plt\n",
    "from mpl_toolkits.mplot3d import proj3d\n",
    "# Plot 3D pointcloud\n",
    "fig = plt.figure(figsize=(8, 8))\n",
    "ax = fig.add_subplot(111, projection='3d')\n",
    "\n",
    "ax.scatter(pc0.points[0], pc0.points[1], pc0.points[2])\n",
    "plt.show()\n"
   ]
  },
  {
   "cell_type": "code",
   "execution_count": 12,
   "metadata": {},
   "outputs": [
    {
     "name": "stdout",
     "output_type": "stream",
     "text": [
      "label: nan, score: nan, xyz: [18.41, 59.52, 0.77], wlh: [0.62, 0.67, 1.64], rot axis: [0.01, -0.02, 1.00], ang(degrees): 179.02, ang(rad): 3.12, vel: nan, nan, nan, name: human.pedestrian.adult, token: ef63a697930c4b20a6b9791f423351da\n",
      "<class 'numpy.ndarray'>\n",
      "<class 'numpy.ndarray'>\n",
      "<class 'float'>\n"
     ]
    }
   ],
   "source": [
    "# test out Boxes\n",
    "print(boxes0[0])\n",
    "print(type(boxes0[0].center))\n",
    "print(type(boxes0[0].wlh))\n",
    "print(type(boxes0[0].orientation.angle))\n"
   ]
  },
  {
   "cell_type": "code",
   "execution_count": 13,
   "metadata": {},
   "outputs": [
    {
     "name": "stdout",
     "output_type": "stream",
     "text": [
      "Jupyter environment detected. Enabling Open3D WebVisualizer.\n",
      "[Open3D INFO] WebRTC GUI backend enabled.\n",
      "[Open3D INFO] WebRTCWindowSystem: HTTP handshake server disabled.\n",
      "Shape: (34688, 4)\n",
      "[[18.414385   59.51602513  0.76963457  0.621       0.669       1.642\n",
      "   3.12440813]]\n",
      "<class 'numpy.ndarray'>\n",
      "Shape: (69, 7)\n",
      "[[18.414385   59.51602513  0.76963457]]\n"
     ]
    }
   ],
   "source": [
    "from open3d_vis import Visualizer\n",
    "# # visualization\n",
    "pc0_transposed = np.transpose(pc0.points)\n",
    "print(\"Shape:\",np.shape(pc0_transposed))\n",
    "\n",
    "\n",
    "boxes_kitti_style = []\n",
    "for box in boxes0:\n",
    "    boxes_kitti_style.append(box.center.tolist() + box.wlh.tolist() + [box.orientation.angle])\n",
    "\n",
    "boxes_kitti_style = np.asarray(boxes_kitti_style)\n",
    "print(boxes_kitti_style[0:1])\n",
    "print(type(boxes_kitti_style[0:1]))\n",
    "print(\"Shape:\",np.shape(boxes_kitti_style))\n",
    "\n",
    "print(boxes_kitti_style[0:1,0:3])"
   ]
  },
  {
   "cell_type": "code",
   "execution_count": 14,
   "metadata": {},
   "outputs": [],
   "source": [
    "\n",
    "# #Add Pointcloud to visualizer\n",
    "# results = Visualizer(pc0_transposed, center_mode='lidar_bottom',points_size=3)\n",
    "# #Add Bounding Boxes\n",
    "# results.add_bboxes(boxes_kitti_style, bbox_color=[0.9, 0.2, 0])\n",
    "# results.show(save_path=None)\n"
   ]
  },
  {
   "cell_type": "code",
   "execution_count": 15,
   "metadata": {},
   "outputs": [
    {
     "name": "stdout",
     "output_type": "stream",
     "text": [
      "[18.72765914 54.91021561  0.73102789]\n",
      "[18.72765914 54.91021561 20.73102789]\n",
      "[[ 1.84143850e+01  5.95160251e+01  7.69634574e-01]\n",
      " [ 2.10021070e+01  3.60611085e+01 -2.61477977e-02]\n",
      " [ 3.73518608e+01  6.43973387e+01  4.50991675e-01]\n",
      " [ 2.53650507e+01  3.21656131e+01 -1.56578802e-01]]\n"
     ]
    }
   ],
   "source": [
    "# Get set of object centers\n",
    "# Stack Boxes/Centroids\n",
    "from utility import get_box_centers\n",
    "\n",
    "centers0 = get_box_centers(boxes0)\n",
    "centers1 = get_box_centers(boxes1)\n",
    "centers2 = get_box_centers(boxes2)\n",
    "\n",
    "# Testing numpy commands\n",
    "# print(centers0[0:3, 0:2])\n",
    "# print(centers0.shape[1])\n",
    "# print(np.ones((centers0.shape[1],centers0.shape[1])))\n",
    "# centers0 @ np.ones((centers0.shape[1],centers0.shape[1]))\n",
    "\n",
    "# Special Shift parameter in meter\n",
    "l = 20\n",
    "# Boxes 0 can stay at the current frame\n",
    "# centers0\n",
    "# Boxes 1 must be translated up by l meters\n",
    "print(centers1[0])\n",
    "centers1 += np.array([0,0,l])\n",
    "print(centers1[0])\n",
    "# Boxes 2 must be translated up by 2*l meters\n",
    "centers2 += np.array([0,0,2*l])\n",
    "\n",
    "# Add all centroids into one array\n",
    "centers = np.empty((0,3))\n",
    "centers = np.append(centers, centers0, axis=0)\n",
    "centers = np.append(centers, centers1, axis=0)\n",
    "centers = np.append(centers, centers2, axis=0)\n",
    "\n",
    "assert centers.shape[0] == centers0.shape[0] \\\n",
    "            + centers1.shape[0] + centers2.shape[0]\n",
    "\n",
    "print(centers[0:4])"
   ]
  },
  {
   "cell_type": "code",
   "execution_count": 16,
   "metadata": {},
   "outputs": [
    {
     "data": {
      "text/plain": [
       "<mpl_toolkits.mplot3d.art3d.Path3DCollection at 0x7f8b3ed98d90>"
      ]
     },
     "execution_count": 16,
     "metadata": {},
     "output_type": "execute_result"
    },
    {
     "data": {
      "image/png": "[encoded data removed]",
      "text/plain": [
       "<Figure size 432x288 with 1 Axes>"
      ]
     },
     "metadata": {
      "needs_background": "light"
     },
     "output_type": "display_data"
    }
   ],
   "source": [
    "fig_centers = plt.figure()\n",
    "ax = fig_centers.add_subplot(111,projection='3d')\n",
    "\n",
    "# ax.scatter(centers[:,0], centers[:,1], centers[:,2])\n",
    "ax.scatter(centers0[:,0], centers0[:,1], centers0[:,2])\n",
    "ax.scatter(centers1[:,0], centers1[:,1], centers1[:,2])\n",
    "ax.scatter(centers2[:,0], centers2[:,1], centers2[:,2])"
   ]
  },
  {
   "cell_type": "code",
   "execution_count": 17,
   "metadata": {},
   "outputs": [],
   "source": [
    "#Add Pointcloud to visualizer\n",
    "# results = Visualizer(centers, center_mode='lidar_bottom',points_size=3)\n",
    "# results.show(save_path=None)\n"
   ]
  },
  {
   "cell_type": "code",
   "execution_count": 18,
   "metadata": {},
   "outputs": [
    {
     "name": "stdout",
     "output_type": "stream",
     "text": [
      "Indices:\n",
      " [[ 0  5 17 54 40]\n",
      " [ 1 31 50  6  3]\n",
      " [ 2 45 40 13 54]] Shape:  (233, 5)\n",
      "Distances:\n",
      " [ 0.          1.31925433  1.95167159  3.80276978 12.39774536] Shape:  (233, 5)\n",
      "[[1. 0. 0. ... 0. 0. 0.]\n",
      " [0. 1. 0. ... 0. 0. 0.]\n",
      " [0. 0. 1. ... 0. 0. 0.]\n",
      " ...\n",
      " [0. 0. 0. ... 1. 0. 0.]\n",
      " [0. 0. 0. ... 0. 1. 0.]\n",
      " [0. 0. 0. ... 0. 0. 1.]]\n"
     ]
    }
   ],
   "source": [
    "# Build KNN Graph\n",
    "from sklearn.neighbors import NearestNeighbors\n",
    "# Init NN-object to handle distance meassurements and other operations\n",
    "nbrs = NearestNeighbors(n_neighbors=5, algorithm='ball_tree').fit(centers)\n",
    "# Compute Distances and indices of k center-entries that lie the nearest to current centroids\n",
    "distances, indices = nbrs.kneighbors(centers)\n",
    "print(\"Indices:\\n\",indices[0:3],\"Shape: \",indices.shape)\n",
    "print(\"Distances:\\n\",distances[0],\"Shape: \",distances.shape)\n",
    "\n",
    "# Show connectivity of graph\n",
    "print(nbrs.kneighbors_graph(centers).toarray())\n"
   ]
  },
  {
   "cell_type": "code",
   "execution_count": 44,
   "metadata": {},
   "outputs": [],
   "source": [
    "#Build graph in a more organised manner\n",
    "from graph.graph_generation import SpatioTemporalGraph, Timeframe\n",
    "\n",
    "nbrs_0 = NearestNeighbors(n_neighbors=5, algorithm='ball_tree').fit(centers0)\n",
    "\n",
    "# Add spatial edges #####################\n",
    "\n",
    "# TODO NearestNeighbors includes the current node. \n",
    "#       Change it so that nodes do not point at themselves\n",
    "\n",
    "# Frame t0\n",
    "#Compute K nearest neighbors\n",
    "spatial_distances_0, spatial_indices_0=nbrs_0.kneighbors(centers0)\n",
    "# Make a list of tuple pairs\n",
    "spatial_pairs = [] \n",
    "for curr_node_idx ,neigborhood_indices,  in enumerate(spatial_indices_0):\n",
    "    for neigbor_index in neigborhood_indices:\n",
    "        spatial_pairs.append( \\\n",
    "            ( (Timeframe.t0,curr_node_idx) , ((Timeframe.t0,neigbor_index)) ) )\n",
    "\n",
    "#Frame t1\n",
    "nbrs_1 = NearestNeighbors(n_neighbors=5, algorithm='ball_tree').fit(centers1)\n",
    "spatial_distances_1, spatial_indices_1=nbrs_1.kneighbors(centers1)\n",
    "# Make a list of tuple pairs\n",
    "for curr_node_idx ,neigborhood_indices,  in enumerate(spatial_indices_1):\n",
    "    for neigbor_index in neigborhood_indices:\n",
    "        spatial_pairs.append( \\\n",
    "            ( (Timeframe.t1,curr_node_idx) , ((Timeframe.t1,neigbor_index)) ) )\n",
    "\n",
    "#Frame t2\n",
    "nbrs_2 = NearestNeighbors(n_neighbors=5, algorithm='ball_tree').fit(centers2)\n",
    "spatial_distances_2, spatial_indices_2=nbrs_2.kneighbors(centers2)\n",
    "# Make a list of tuple pairs\n",
    "for curr_node_idx ,neigborhood_indices,  in enumerate(spatial_indices_2):\n",
    "    for neigbor_index in neigborhood_indices:\n",
    "        spatial_pairs.append( \\\n",
    "            ( (Timeframe.t2,curr_node_idx) , ((Timeframe.t2,neigbor_index)) ) )\n",
    "\n",
    "testgraph = SpatioTemporalGraph(spatial_pairs)\n"
   ]
  },
  {
   "cell_type": "code",
   "execution_count": 45,
   "metadata": {},
   "outputs": [
    {
     "name": "stdout",
     "output_type": "stream",
     "text": [
      "{'token': 'ef63a697930c4b20a6b9791f423351da', 'sample_token': 'ca9a282c9e77460f8360f564131a8af5', 'instance_token': '6dd2cbf4c24b4caeb625035869bca7b5', 'visibility_token': '1', 'attribute_tokens': ['4d8821270b4a47e3a8a300cbec48188e'], 'translation': [373.256, 1130.419, 0.8], 'size': [0.621, 0.669, 1.642], 'rotation': [0.9831098797903927, 0.0, 0.0, -0.18301629506281616], 'prev': '', 'next': '7987617983634b119e383d8a29607fd7', 'num_lidar_pts': 1, 'num_radar_pts': 0, 'category_name': 'human.pedestrian.adult'}\n",
      "Same Instances:  True\n",
      "Different Instances: False\n"
     ]
    }
   ],
   "source": [
    "from utility import is_same_instance\n",
    "\n",
    "print(nusc.get('sample_annotation', boxes0[0].token))\n",
    "\n",
    "print(\"Same Instances: \",is_same_instance(nusc, boxes0[0].token,boxes0[0].token))\n",
    "print(\"Different Instances:\",is_same_instance(nusc, boxes0[0].token,boxes0[1].token))"
   ]
  },
  {
   "cell_type": "code",
   "execution_count": 46,
   "metadata": {},
   "outputs": [
    {
     "name": "stdout",
     "output_type": "stream",
     "text": [
      "(67, 2, 2)\n",
      "(144, 2, 2)\n",
      "((<Timeframe.t0: 0>, 0), (<Timeframe.t1: 1>, 0))\n"
     ]
    }
   ],
   "source": [
    "# Add temporal edges #####################\n",
    "# Only connect unique objects to themselves. Only Connect boxes\n",
    "# that belong to the same object instance and subsequently same class\n",
    "#Initiate graph\n",
    "temporal_pairs = []\n",
    "# Looking for connections between frame i and frame j\n",
    "# Frame 0 ==> Frame 1\n",
    "for i,box_i in enumerate(boxes0):\n",
    "    for j,box_j in enumerate(boxes1):\n",
    "        if is_same_instance(nusc, box_i.token, box_j.token):\n",
    "            temporal_pairs.append( \\\n",
    "                ( (Timeframe.t0,i) , ((Timeframe.t1,j)) ) )\n",
    "print(np.shape(temporal_pairs))\n",
    "# Frame 1 ==> Frame 2\n",
    "for i,box_i in enumerate(boxes1):\n",
    "    for j,box_j in enumerate(boxes2):\n",
    "        if is_same_instance(nusc, box_i.token, box_j.token):\n",
    "            temporal_pairs.append( \\\n",
    "                ( (Timeframe.t1,i) , ((Timeframe.t2,j)) ) )\n",
    "print(np.shape(temporal_pairs))\n",
    "print(temporal_pairs[0])\n",
    "\n",
    "testgraph.add_connections(temporal_pairs)\n"
   ]
  },
  {
   "cell_type": "code",
   "execution_count": 47,
   "metadata": {},
   "outputs": [
    {
     "name": "stdout",
     "output_type": "stream",
     "text": [
      "Time 0:\n",
      " {(<Timeframe.t0: 0>, 0), (<Timeframe.t0: 0>, 17), (<Timeframe.t0: 0>, 54), (<Timeframe.t0: 0>, 5), (<Timeframe.t1: 1>, 0), (<Timeframe.t0: 0>, 40)}\n",
      "Time 1:\n",
      " {(<Timeframe.t1: 1>, 57), (<Timeframe.t1: 1>, 18), (<Timeframe.t1: 1>, 41), (<Timeframe.t0: 0>, 0), (<Timeframe.t1: 1>, 5), (<Timeframe.t2: 2>, 0), (<Timeframe.t1: 1>, 0)}\n",
      "Time 2:\n",
      " {(<Timeframe.t2: 2>, 63), (<Timeframe.t2: 2>, 47), (<Timeframe.t2: 2>, 5), (<Timeframe.t2: 2>, 20), (<Timeframe.t2: 2>, 0), (<Timeframe.t1: 1>, 0)}\n"
     ]
    }
   ],
   "source": [
    "print(\"Time 0:\\n\",testgraph._graph[(Timeframe.t0,0)])\n",
    "print(\"Time 1:\\n\",testgraph._graph[(Timeframe.t1,0)])\n",
    "print(\"Time 2:\\n\",testgraph._graph[(Timeframe.t2,0)])\n",
    "# print(\"Whole Graph\\n\",testgraph._graph)"
   ]
  },
  {
   "cell_type": "code",
   "execution_count": 48,
   "metadata": {},
   "outputs": [],
   "source": [
    "# # Draw 3D Graph\n",
    "\n",
    "# results = Visualizer(centers, center_mode='lidar_bottom',points_size=3)\n",
    "\n",
    "# results.show(save_path=None)"
   ]
  },
  {
   "cell_type": "code",
   "execution_count": 49,
   "metadata": {},
   "outputs": [
    {
     "name": "stdout",
     "output_type": "stream",
     "text": [
      "(413, 2)\n"
     ]
    }
   ],
   "source": [
    "# Get all spatial Edges\n",
    "spatial_pointpairs0 = []\n",
    "for reference_node in testgraph._graph:\n",
    "    if(reference_node[0]== Timeframe.t0):\n",
    "        for neighbor_node in testgraph._graph[reference_node]:\n",
    "            # print(neighbor_index[0])\n",
    "            timestep, idx = neighbor_node[0],neighbor_node[1]\n",
    "            if timestep == Timeframe.t0:\n",
    "                spatial_pointpairs0.append([reference_node[1],idx])\n",
    "\n",
    "print(np.shape(spatial_pointpairs0))\n",
    "testarray = testgraph.get_spatial_pointpairs(Timeframe.t0)\n",
    "assert spatial_pointpairs0 == testarray\n",
    "\n",
    "spatial_pointpairs1 = testgraph.get_spatial_pointpairs(Timeframe.t1)\n",
    "spatial_pointpairs2 = testgraph.get_spatial_pointpairs(Timeframe.t2)"
   ]
  },
  {
   "cell_type": "code",
   "execution_count": 50,
   "metadata": {},
   "outputs": [
    {
     "data": {
      "text/plain": [
       "146"
      ]
     },
     "execution_count": 50,
     "metadata": {},
     "output_type": "execute_result"
    }
   ],
   "source": [
    "np.argwhere(centers == centers0[-1])\n",
    "np.argwhere(centers == centers1[-1])[0,0]"
   ]
  },
  {
   "cell_type": "code",
   "execution_count": 51,
   "metadata": {},
   "outputs": [],
   "source": [
    "# Get all temporal edges\n",
    "\n",
    "# Get points \n",
    "def get_points(centers0, centers1 ,centers2,reference_node):\n",
    "    if(reference_node[0]== Timeframe.t0):\n",
    "        return centers0[reference_node[1]]\n",
    "    elif (reference_node[0]== Timeframe.t1):\n",
    "        return centers1[reference_node[1]]\n",
    "    elif (reference_node[0]== Timeframe.t2):\n",
    "        return centers2[reference_node[1]]\n",
    "    else:\n",
    "        return AttributeError\n",
    "        \n",
    "# Get all temporal edges (only frame 0->1 and 1->2)\n",
    "# global_center_list = centers.tolist()\n",
    "temporal_pairs_indices = []\n",
    "for reference_node in testgraph._graph:\n",
    "    reference_timeframe = reference_node[0]\n",
    "\n",
    "    # Find corresponding indices in global centers list\n",
    "    point_a = get_points(centers0, centers1 ,centers2,reference_node)\n",
    "    reference_idx_global = np.argwhere(centers == point_a)[0,0]\n",
    "\n",
    "    for neighbor_node in testgraph._graph[reference_node]:\n",
    "        # print(neighbor_index[0])\n",
    "        neighbor_timeframe, neighbor_idx = neighbor_node[0],neighbor_node[1]\n",
    "        if neighbor_timeframe != reference_timeframe:\n",
    "            # Find corresponding indices in global centers list\n",
    "            # Reference Node\n",
    "            point_b = get_points(centers0, centers1 ,centers2,neighbor_node)\n",
    "            neighbor_idx_global = np.argwhere(centers == point_b)[0,0]\n",
    "            #Append global indices into list\n",
    "            temporal_pairs_indices.append([reference_idx_global,neighbor_idx_global])\n"
   ]
  },
  {
   "cell_type": "code",
   "execution_count": 52,
   "metadata": {},
   "outputs": [
    {
     "name": "stdout",
     "output_type": "stream",
     "text": [
      "Shape: (34688, 4)\n",
      "Shape: (34720, 4)\n",
      "Shape: (34720, 4)\n"
     ]
    }
   ],
   "source": [
    "import open3d as o3d\n",
    "from open3d import geometry\n",
    "\n",
    "############ Parameters\n",
    "upward_shift = 20\n",
    "##############\n",
    "\n",
    "# Integrate All Center points in Pointcloud-object not necessary but test\n",
    "pcd = o3d.geometry.PointCloud()\n",
    "pcd.points = o3d.utility.Vector3dVector(centers)\n",
    "\n",
    "# Include Pointcloud of timeframe 0 into visualization \n",
    "pc0_transposed = np.transpose(pc0.points)\n",
    "print(\"Shape:\",np.shape(pc0_transposed))\n",
    "pointcloud0 = o3d.geometry.PointCloud()\n",
    "pointcloud0.points = o3d.utility.Vector3dVector(pc0_transposed[:, :3])\n",
    "#Add some color\n",
    "point_color=(0.5, 0.5, 0.5)\n",
    "points_colors = np.tile(np.array(point_color), (pc0_transposed.shape[0], 1))\n",
    "pointcloud0.colors = o3d.utility.Vector3dVector(points_colors)\n",
    "\n",
    "# Include Pointcloud of timeframe 1 into visualization \n",
    "pc1_transposed = np.transpose(pc1.points)\n",
    "print(\"Shape:\",np.shape(pc1_transposed))\n",
    "pointcloud1 = o3d.geometry.PointCloud()\n",
    "pointcloud1.points = o3d.utility.Vector3dVector(pc1_transposed[:, :3])\n",
    "#Add some color\n",
    "point_color=(0.5, 0.5, 0.5)\n",
    "points_colors = np.tile(np.array(point_color), (pc1_transposed.shape[0], 1))\n",
    "pointcloud1.colors = o3d.utility.Vector3dVector(points_colors)\n",
    "# Translate up to stack the point clouds\n",
    "pointcloud1.translate(np.array([0,0,upward_shift]))\n",
    "\n",
    "# Include Pointcloud of timeframe 2 into visualization \n",
    "pc2_transposed = np.transpose(pc2.points)\n",
    "print(\"Shape:\",np.shape(pc2_transposed))\n",
    "pointcloud2 = o3d.geometry.PointCloud()\n",
    "pointcloud2.points = o3d.utility.Vector3dVector(pc2_transposed[:, :3])\n",
    "#Add some color\n",
    "point_color=(0.5, 0.5, 0.5)\n",
    "points_colors = np.tile(np.array(point_color), (pc2_transposed.shape[0], 1))\n",
    "pointcloud2.colors = o3d.utility.Vector3dVector(points_colors)\n",
    "# Translate up to stack the point clouds\n",
    "pointcloud2.translate(np.array([0,0,upward_shift * 2]))\n",
    "\n",
    "# Include reference frame\n",
    "mesh_frame = geometry.TriangleMesh.create_coordinate_frame(\n",
    "            size=1, origin=[0, 0, 0])  # create coordinate frame\n",
    "\n",
    "# Draw Graph/Edges with Lineset\n",
    "# Spatial Edges Red Edges\n",
    "colors = [[1, 0, 0] for i in range(len(spatial_pointpairs0))]\n",
    "line_set0 = geometry.LineSet(points=o3d.utility.Vector3dVector(centers0),\n",
    "    lines=o3d.utility.Vector2iVector(spatial_pointpairs0),)\n",
    "line_set0.colors = o3d.utility.Vector3dVector(colors)\n",
    "\n",
    "colors = [[1, 0, 0] for i in range(len(spatial_pointpairs1))]\n",
    "line_set1 = geometry.LineSet(points=o3d.utility.Vector3dVector(centers1),\n",
    "    lines=o3d.utility.Vector2iVector(spatial_pointpairs1),)\n",
    "line_set1.colors = o3d.utility.Vector3dVector(colors)\n",
    "\n",
    "colors = [[1, 0, 0] for i in range(len(spatial_pointpairs2))]\n",
    "line_set2 = geometry.LineSet(points=o3d.utility.Vector3dVector(centers2),\n",
    "    lines=o3d.utility.Vector2iVector(spatial_pointpairs2),)\n",
    "line_set2.colors = o3d.utility.Vector3dVector(colors)\n",
    "\n",
    "# Temporal Edges \n",
    "colors = [[0, 0, 1] for i in range(len(temporal_pairs_indices))]\n",
    "temporal_line_set = geometry.LineSet(points=o3d.utility.Vector3dVector(centers),\n",
    "    lines=o3d.utility.Vector2iVector(temporal_pairs_indices),)\n",
    "temporal_line_set.colors = o3d.utility.Vector3dVector(colors)"
   ]
  },
  {
   "cell_type": "code",
   "execution_count": 53,
   "metadata": {},
   "outputs": [],
   "source": [
    "# help(o3d.visualization.draw_geometries)\n",
    "o3d.visualization.draw_geometries([pcd,mesh_frame,line_set0, \\\n",
    "            line_set1,line_set2,temporal_line_set,\\\n",
    "            pointcloud0,pointcloud1, pointcloud2])\n",
    "\n",
    "# o3d.visualization.draw_geometries([pcd,mesh_frame,line_set0,pointcloud0,pointcloud1, pointcloud2])\n",
    "# o3d.visualization.draw_geometries([pcd,mesh_frame,line_set,pointcloud0,pointcloud1],\n",
    "#                                   zoom=0.3412,\n",
    "#                                   front=[0.4257, -0.2125, -0.8795],\n",
    "#                                   lookat=[2.6172, 2.0475, 1.532],\n",
    "#                                   up=[-0.0694, -0.9768, 0.2024])"
   ]
  },
  {
   "cell_type": "code",
   "execution_count": 43,
   "metadata": {},
   "outputs": [
    {
     "name": "stdout",
     "output_type": "stream",
     "text": [
      "Help on method translate in module open3d.cpu.pybind.geometry:\n",
      "\n",
      "translate(...) method of open3d.cpu.pybind.geometry.PointCloud instance\n",
      "    translate(self, translation, relative=True)\n",
      "    Apply translation to the geometry coordinates.\n",
      "    \n",
      "    Args:\n",
      "        translation (numpy.ndarray[numpy.float64[3, 1]]): A 3D vector to transform the geometry\n",
      "        relative (bool, optional, default=True): If true, the translation vector is directly added to the geometry coordinates. Otherwise, the center is moved to the translation vector.\n",
      "    \n",
      "    Returns:\n",
      "        open3d.geometry.Geometry3D\n",
      "\n"
     ]
    }
   ],
   "source": [
    "help(pointcloud1.translate)\n"
   ]
  },
  {
   "cell_type": "code",
   "execution_count": null,
   "metadata": {},
   "outputs": [],
   "source": []
  }
 ],
 "metadata": {
  "interpreter": {
   "hash": "434941593aed7c9146eb321e17df2547a675a0813990b3197c9f49b3135b1bdb"
  },
  "kernelspec": {
   "display_name": "Python 3.9.7 ('nuscenes')",
   "language": "python",
   "name": "python3"
  },
  "language_info": {
   "codemirror_mode": {
    "name": "ipython",
    "version": 3
   },
   "file_extension": ".py",
   "mimetype": "text/x-python",
   "name": "python",
   "nbconvert_exporter": "python",
   "pygments_lexer": "ipython3",
   "version": "3.8.12"
  },
  "orig_nbformat": 4
 },
 "nbformat": 4,
 "nbformat_minor": 2
}
