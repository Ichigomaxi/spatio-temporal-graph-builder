{
 "cells": [
  {
   "cell_type": "code",
   "execution_count": null,
   "metadata": {},
   "outputs": [],
   "source": [
    "str_filenumber = \"000002\"\n",
    "    # read point cloud\n",
    "    velo_dir = \"/home/max/projects/masterthesis/kitti_objdet/velodyne\"\n",
    "    velo_filename = str_filenumber + \".bin\" #\"000002.bin\"\n",
    "    velo_path = os.path.join(velo_dir, velo_filename)\n",
    "    points = np.fromfile(velo_path, dtype=np.float32).reshape(-1, 4)\n",
    "    # points = np.fromfile(path, dtype=np.float32).reshape(-1, 5)\n",
    "    # points = cast_points_to_kitti(points)\n",
    "    # points[:, 3] /= 255\n",
    "    # points[:, 4] = 0\n",
    "    # print(points)\n",
    "    labels = []\n",
    "\n",
    "    # read labels\n",
    "    # baseline labels\n",
    "    # our labels (flow + objdet3D )\n",
    "    label_dir = \"/home/max/projects/masterthesis/kitti_objdet/label\"\n",
    "\n",
    "    label_filename = str_filenumber + \".txt\"#\"000002.txt\"\n",
    "    label_path = os.path.join(label_dir, label_filename)\n",
    "    with open(label_path, 'r') as file:\n",
    "        lines = file.readlines()\n",
    "        for line in lines:\n",
    "            line = line.split()\n",
    "            if line != []:\n",
    "                line = line[8:15]\n",
    "                line = [float(x) for x in line]\n",
    "                labels.append(line)"
   ]
  }
 ],
 "metadata": {
  "language_info": {
   "name": "python"
  },
  "orig_nbformat": 4
 },
 "nbformat": 4,
 "nbformat_minor": 2
}
