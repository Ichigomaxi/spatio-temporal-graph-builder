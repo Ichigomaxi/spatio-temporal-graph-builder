{
 "cells": [
  {
   "cell_type": "markdown",
   "metadata": {},
   "source": [
    "This notebook aims to build a graph purely with KNN."
   ]
  },
  {
   "cell_type": "code",
   "execution_count": 1,
   "metadata": {},
   "outputs": [
    {
     "name": "stdout",
     "output_type": "stream",
     "text": [
      "======\n",
      "Loading NuScenes tables for version v1.0-trainval...\n",
      "23 category,\n",
      "8 attribute,\n",
      "4 visibility,\n",
      "911 instance,\n",
      "12 sensor,\n",
      "120 calibrated_sensor,\n",
      "31206 ego_pose,\n",
      "8 log,\n",
      "10 scene,\n",
      "404 sample,\n",
      "31206 sample_data,\n",
      "18538 sample_annotation,\n",
      "4 map,\n",
      "Done loading in 0.546 seconds.\n",
      "======\n",
      "Reverse indexing ...\n",
      "Done reverse indexing in 0.1 seconds.\n",
      "======\n"
     ]
    }
   ],
   "source": [
    "import numpy as np\n",
    "from nuscenes.nuscenes import NuScenes\n",
    "\n",
    "nusc = NuScenes(version='v1.0-trainval', dataroot='/media/HDD2/Datasets/mini_nusc', verbose=True)\n",
    "\n",
    "# nusc = NuScenes(version='v1.0-trainval', dataroot='/media/HDD2/Datasets/nuscenes2', verbose=True)"
   ]
  },
  {
   "cell_type": "code",
   "execution_count": 2,
   "metadata": {},
   "outputs": [
    {
     "data": {
      "text/plain": [
       "'/home/maximilian/.cache/pyg'"
      ]
     },
     "execution_count": 2,
     "metadata": {},
     "output_type": "execute_result"
    }
   ],
   "source": [
    "import torch_geometric as tgeo\n",
    "\n",
    "tgeo.get_home_dir()"
   ]
  },
  {
   "cell_type": "code",
   "execution_count": 3,
   "metadata": {},
   "outputs": [
    {
     "name": "stdout",
     "output_type": "stream",
     "text": [
      "dict_keys(['train', 'val', 'test', 'mini_train', 'mini_val', 'train_detect', 'train_track'])\n"
     ]
    }
   ],
   "source": [
    "from nuscenes.utils.splits import train,val\n",
    "from nuscenes.utils.splits import create_splits_scenes\n",
    "\n",
    "split = create_splits_scenes()\n",
    "print(split.keys())\n",
    "split_scene_list = []\n",
    "for scene_name in split['mini_train']:\n",
    "    for scene in nusc.scene:\n",
    "        if scene['name']==scene_name:\n",
    "            split_scene_list.append(scene)"
   ]
  },
  {
   "cell_type": "code",
   "execution_count": 4,
   "metadata": {},
   "outputs": [
    {
     "name": "stdout",
     "output_type": "stream",
     "text": [
      "323\n",
      "('cc8c0bf57f984915a77078b10eb33198', 'ca9a282c9e77460f8360f564131a8af5')\n",
      "('cc8c0bf57f984915a77078b10eb33198', '39586f9d59004284a7114a68825e8eec')\n",
      "('cc8c0bf57f984915a77078b10eb33198', '356d81f38dd9473ba590f39e266f54e5')\n"
     ]
    }
   ],
   "source": [
    "#write a sequence \n",
    "\n",
    "sample_dict = {}\n",
    "\n",
    "i = 0 \n",
    "for scene in split_scene_list:\n",
    "    last_sample_token =\"\"\n",
    "    sample_token = scene['first_sample_token']\n",
    "    while(last_sample_token == \"\"):\n",
    "        \n",
    "        sample = nusc.get('sample', sample_token)\n",
    "        sample_dict[i] = (scene['token'],sample[\"token\"])\n",
    "        i += 1\n",
    "        sample_token = sample[\"next\"]\n",
    "        if(sample[\"token\"]== scene['last_sample_token']):\n",
    "            last_sample_token = scene['last_sample_token']\n",
    "\n",
    "print (len(sample_dict))\n",
    "print (sample_dict[0])\n",
    "print (sample_dict[1])\n",
    "print (sample_dict[2])"
   ]
  },
  {
   "cell_type": "code",
   "execution_count": 5,
   "metadata": {},
   "outputs": [
    {
     "name": "stdout",
     "output_type": "stream",
     "text": [
      "Using device: cuda\n",
      "True\n",
      "num_gpu: 2\n",
      "current_device:  0\n",
      "---------------------------------------------------------------\n",
      "GeForce RTX 3090\n",
      "Memory Usage:\n",
      "Allocated: 0.0 GB 0 0.0\n",
      "Cached:    0.0 GB 0 0.0\n",
      "---------------------------------------------------------------\n",
      "GeForce RTX 2080\n",
      "Memory Usage:\n",
      "Allocated: 0.0 GB 0 0.0\n",
      "Cached:    0.0 GB 0 0.0\n",
      "---------------------------------------------------------------\n"
     ]
    }
   ],
   "source": [
    "import torch\n",
    "# setting device on GPU if available, else CPU\n",
    "device = torch.device('cuda' if torch.cuda.is_available() else 'cpu')\n",
    "print('Using device:', device)\n",
    "\n",
    "#Additional Info when using cuda\n",
    "if device.type == 'cuda':\n",
    "    print(torch.cuda.is_available())\n",
    "    num_gpu = torch.cuda.device_count()\n",
    "    print(\"num_gpu:\",num_gpu)\n",
    "    print(\"current_device: \",torch.cuda.current_device())\n",
    "    print(\"---------------------------------------------------------------\")\n",
    "    for i in range(num_gpu):\n",
    "        print(torch.cuda.get_device_name(i))\n",
    "        # print(torch.cuda.device(i))\n",
    "        print('Memory Usage:')\n",
    "        print('Allocated:', round(torch.cuda.memory_allocated(i)/1024**3,1), 'GB', torch.cuda.memory_allocated(i),torch.cuda.memory_allocated(i)/1024**3)\n",
    "        print('Cached:   ', round(torch.cuda.memory_reserved(i)/1024**3,1), 'GB', torch.cuda.memory_reserved(i),torch.cuda.memory_reserved(i)/1024**3)\n",
    "        print(\"---------------------------------------------------------------\")"
   ]
  },
  {
   "cell_type": "code",
   "execution_count": 6,
   "metadata": {},
   "outputs": [],
   "source": [
    "import torch\n",
    "import numpy as np\n",
    "\n",
    "# from enum import IntEnum\n",
    "# class edge_types(IntEnum):\n",
    "#     spatial_edges = 0\n",
    "#     temporal_edges = 1\n",
    "\n",
    "# y = torch.LongTensor(4,1).random_() % 2\n",
    "# print(\"y:\", y)\n",
    "# y_onehot = torch.FloatTensor(4, 2)\n",
    "# y_onehot.zero_()\n",
    "# y_onehot.scatter_(1,y,1)\n",
    "# print(\"y_onehot:\", y_onehot)\n",
    "\n",
    "# from sklearn.neighbors import BallTree\n",
    "# rng = np.random.RandomState(0)\n",
    "# X = rng.random_sample((10, 3))\n",
    "# tree = BallTree(X, leaf_size=2) \n",
    "# dist, ind = tree.query(X, k=3) \n",
    "# print(ind)  # indices of 3 closest neighbors\n",
    "# ind = ind[:,1:]\n",
    "# print(ind) "
   ]
  },
  {
   "cell_type": "code",
   "execution_count": 7,
   "metadata": {},
   "outputs": [
    {
     "name": "stdout",
     "output_type": "stream",
     "text": [
      "Device: cuda:1\n"
     ]
    }
   ],
   "source": [
    "#Create List of Graph objects\n",
    "from datasets.nuscenes_mot_graph import NuscenesMotGraph\n",
    "#______________________________________________________________#\n",
    "# Decide if only first scene should be computed\n",
    "only_first_scene = True\n",
    "scene_token0, sample_token0= sample_dict[0]\n",
    "device = torch.device('cuda' if torch.cuda.is_available() else 'cpu')\n",
    "if device.type == 'cuda':\n",
    "    for i in range(torch.cuda.device_count()):\n",
    "        if torch.cuda.get_device_name(i) == \"GeForce RTX 2080\":\n",
    "            device = torch.device(i) # RTX 2080 8GB\n",
    "print(\"Device:\", device)\n",
    "#_______________________________________________________________#\n",
    "\n",
    "MotGraphList= []\n",
    "for sample_key in sample_dict:\n",
    "    scene_token_current, sample_token_current= sample_dict[sample_key]\n",
    "    if(only_first_scene):\n",
    "        if(scene_token0 == scene_token_current):\n",
    "            object = NuscenesMotGraph(nuscenes_handle = nusc,\n",
    "                        start_frame=sample_token_current,\n",
    "                        max_frame_dist = 3, \n",
    "                        filterBoxes_categoryQuery='vehicle.car',\n",
    "                        device= device)\n",
    "            is_possible2construct = object.is_possible2construct\n",
    "            if is_possible2construct:\n",
    "                object.construct_graph_object()\n",
    "                # object.assign_edge_labels_one_hot()\n",
    "                object.assign_edge_labels(label_type='multiclass')\n",
    "                # object.assign_edge_labels(label_type='binary')\n",
    "                MotGraphList.append(object)\n",
    "    else:\n",
    "        object = NuscenesMotGraph(nuscenes_handle = nusc,\n",
    "                        start_frame=sample_token_current,\n",
    "                        max_frame_dist = 3,  \n",
    "                        filterBoxes_categoryQuery='vehicle.car',device= device)\n",
    "        is_possible2construct = object.is_possible2construct\n",
    "        if is_possible2construct:\n",
    "            object.construct_graph_object()\n",
    "            # object.assign_edge_labels(label_type='binary')\n",
    "            object.assign_edge_labels(label_type='multiclass')\n",
    "            MotGraphList.append(object)\n",
    "            "
   ]
  },
  {
   "cell_type": "code",
   "execution_count": 8,
   "metadata": {},
   "outputs": [],
   "source": [
    "# first_graph = MotGraphList[0]\n",
    "# last_graph = MotGraphList[-1]\n",
    "# first_graph_object = first_graph.graph_obj\n",
    "# last_graph_object = last_graph.graph_obj\n",
    "\n",
    "# print(\"Node features: \\n\",first_graph_object.x)\n",
    "# print(\"Node features: \\n \",last_graph_object.x)\n",
    "# print(\"----------------------------------------\\n\")\n",
    "# print(\"Edge indices \\n\", first_graph_object['edge_index'])\n",
    "# print(\"Edge indices \\n\", last_graph_object['edge_index'])\n",
    "# print(\"----------------------------------------\\n\")\n",
    "# print(\"Edge attributes \\n\", first_graph_object['edge_attr'])\n",
    "# print(\"Edge attributes \\n\", last_graph_object['edge_attr'])\n",
    "# print(\"----------------------------------------\\n\")\n",
    "# print(\"temporal_edges_mask \\n\", first_graph_object.temporal_edges_mask)\n",
    "# print(\"temporal_edges_mask \\n\", last_graph_object.temporal_edges_mask)\n",
    "# print(\"----------------------------------------\\n\")\n",
    "# print(\"Edge labels: one hot encoding \\n\",first_graph_object[\"edge_labels\"])\n",
    "# print(\"Edge labels: one hot encoding \\n\",last_graph_object[\"edge_labels\"])"
   ]
  },
  {
   "cell_type": "code",
   "execution_count": 9,
   "metadata": {},
   "outputs": [],
   "source": [
    "# # Input\n",
    "# print(\"----------------------------------------\\n\")\n",
    "# print(MotGraphList[0].graph_obj.keys)\n",
    "# print(\"----------------------------------------\\n\")\n",
    "# print(\"Node features: \", MotGraphList[0].graph_obj['x'])\n",
    "# print(\"----------------------------------------\\n\")\n",
    "# print(\"Edge indices\", MotGraphList[0].graph_obj['edge_index'])\n",
    "# print(\"----------------------------------------\\n\")\n",
    "# print(\"Edge attributes\", MotGraphList[0].graph_obj['edge_attr'])"
   ]
  },
  {
   "cell_type": "code",
   "execution_count": 10,
   "metadata": {},
   "outputs": [],
   "source": [
    "# #Output\n",
    "# from groundtruth_generation.nuscenes_create_gt import edge_label_classes\n",
    "# print(\"edge_label_classes.different_instance:\",edge_label_classes.different_instance)\n",
    "# print(\"edge_label_classes.same_instance:\",edge_label_classes.same_instance)\n",
    "# print(\"edge_label_classes.new_instance:\",edge_label_classes.new_instance)\n",
    "# print(\"Edge labels: one hot encoding\",MotGraphList[0].graph_obj[\"edge_labels\"])"
   ]
  },
  {
   "cell_type": "code",
   "execution_count": 11,
   "metadata": {},
   "outputs": [],
   "source": [
    "# print(\"----------------------------------------\\n\")\n",
    "# print(len(MotGraphList))\n",
    "# print(\"----------------------------------------\\n\")\n",
    "# print(MotGraphList[0])\n",
    "# print(\"----------------------------------------\\n\")\n",
    "# print(MotGraphList[0].graph_obj)\n",
    "# print(\"----------------------------------------\\n\")\n",
    "# print(len(MotGraphList[0].graph_obj))\n",
    "# print(\"----------------------------------------\\n\")\n",
    "# print(MotGraphList[0].graph_obj.keys)\n",
    "# print(\"----------------------------------------\\n\")\n",
    "# print(\"is_undirected() : \",MotGraphList[0].graph_obj.is_undirected())\n",
    "# print(\"----------------------------------------\\n\")\n",
    "# print(MotGraphList[0].graph_obj[\"x\"][0:5])\n",
    "\n",
    "# print(\"----------------------------------------\\n\")\n",
    "# print('graph_dataframe[\"boxes_dict\"][1][0] \\n',MotGraphList[0].graph_dataframe[\"boxes_dict\"][1][0])\n",
    "# print(\"----------------------------------------\\n\")\n",
    "# box_list, center_list = MotGraphList[0].graph_dataframe[\"centers_dict\"][1]\n",
    "# print(\"box_list: \\n\",box_list[0], 'center_list: \\n', center_list[0])\n",
    "# print(\"----------------------------------------\\n\")\n",
    "# box_list, center_list = MotGraphList[0].graph_dataframe[\"centers_dict\"][1]\n",
    "# print(\"is same memory ?: \\n\", MotGraphList[0].graph_dataframe[\"boxes_dict\"][1] is box_list )\n",
    "# print(\"----------------------------------------\\n\")\n",
    "# for i in range(3):\n",
    "#     print(MotGraphList[0].graph_dataframe[\"boxes_list_all\"][i] )\n",
    "#     print(MotGraphList[0].graph_dataframe[\"centers_list_all\"][i])\n",
    "#     print(\"----------------------------------------\\n\")\n",
    "# print(\"----------------------------------------\\n\")\n",
    "# for i in range(3):\n",
    "#     print(MotGraphList[0].graph_dataframe[\"boxes_list_all\"][-i] )\n",
    "#     print(MotGraphList[0].graph_dataframe[\"centers_list_all\"][-i])\n",
    "#     print(\"----------------------------------------\\n\")\n",
    "# print(\"----------------------------------------\\n\")\n",
    "# print(\"Edge Labels: \",MotGraphList[0].graph_obj[\"edge_labels\"])\n",
    "# print(\"----------------------------------------\\n\")\n",
    "# print(\"Edge Labels: \",MotGraphList[-1].graph_obj[\"edge_labels\"])\n",
    "# print(\"----------------------------------------\\n\")\n",
    "\n",
    "# print(\"Nodes shape: \",MotGraphList[0].graph_obj.x.shape)\n",
    "# print(\"----------------------------------------\\n\")\n",
    "# print(\"Edge_index : \",MotGraphList[0].graph_obj[\"edge_index\"])\n",
    "# print(\"----------------------------------------\\n\")"
   ]
  },
  {
   "cell_type": "code",
   "execution_count": 12,
   "metadata": {},
   "outputs": [],
   "source": [
    "# import torch\n",
    "# import torch.nn.functional as F\n",
    "# from torch_geometric.nn import GCNConv\n",
    "\n",
    "# class Net(torch.nn.Module):\n",
    "#     def __init__(self):\n",
    "#         super(Net, self).__init__()\n",
    "#         self.conv1 = GCNConv(3, 16)\n",
    "#         self.conv2 = GCNConv(16, 2)\n",
    "#         self.mlp = torch.nn.Linear(\n",
    "#                     in_features=3, out_features=1, bias=True)\n",
    "\n",
    "#     def forward(self, data):\n",
    "#         x = data.x \n",
    "#         edge_index = data.edge_index\n",
    "#         edge_feature =data.edge_attr\n",
    "\n",
    "#         # x = self.conv1(x, edge_index)\n",
    "#         x = F.relu(x)\n",
    "#         # x = self.conv2(x, edge_index)\n",
    "#         x = x.float()\n",
    "#         x = self.mlp(x)\n",
    "\n",
    "#         return F.sigmoid(x)"
   ]
  },
  {
   "cell_type": "code",
   "execution_count": 13,
   "metadata": {},
   "outputs": [],
   "source": [
    "from torch_geometric.data import Data\n",
    "from torch_geometric.loader import DataLoader\n",
    "\n",
    "graph_list = []\n",
    "for graph in MotGraphList:\n",
    "    graph_list.append(graph.graph_obj)\n",
    "# print(len(graph_list))\n",
    "# print(graph_list[:5])\n",
    "train_loader = DataLoader(graph_list, batch_size=5,shuffle =False)"
   ]
  },
  {
   "cell_type": "code",
   "execution_count": 14,
   "metadata": {},
   "outputs": [],
   "source": [
    "# for data in train_loader:\n",
    "#     print(data.x)\n",
    "#     print(data.edge_index)\n",
    "#     print(data.edge_attr)\n",
    "#     print(data.num_graphs)"
   ]
  },
  {
   "cell_type": "code",
   "execution_count": 15,
   "metadata": {},
   "outputs": [
    {
     "name": "stdout",
     "output_type": "stream",
     "text": [
      "True\n"
     ]
    }
   ],
   "source": [
    "from model.message_passing_module import Message_Passing_spatio_temporal\n",
    "\n",
    "message_passing_param_dict = {'node_feature_input_size': 4, \n",
    "                                    \"edge_feature_inpute_size\": 2,\n",
    "                                    \"node_feature_output_size\":10,\n",
    "                                    \"edge_feature_output_size\":10,\n",
    "                                    }\n",
    "\n",
    "model = Message_Passing_spatio_temporal(\n",
    "                    in_channels = message_passing_param_dict[\"node_feature_input_size\"],\n",
    "                    out_channels = \"edge_feature_inpute_size\"\n",
    "                    )\n",
    "model.to(\"cuda:1\")\n",
    "\n",
    "print(next(model.parameters()).is_cuda)"
   ]
  },
  {
   "cell_type": "code",
   "execution_count": 21,
   "metadata": {},
   "outputs": [
    {
     "ename": "TypeError",
     "evalue": "edge_updater() takes 2 positional arguments but 4 were given",
     "output_type": "error",
     "traceback": [
      "\u001b[0;31m---------------------------------------------------------------------------\u001b[0m",
      "\u001b[0;31mTypeError\u001b[0m                                 Traceback (most recent call last)",
      "\u001b[0;32m/tmp/ipykernel_24906/2302535128.py\u001b[0m in \u001b[0;36m<module>\u001b[0;34m\u001b[0m\n\u001b[1;32m      3\u001b[0m \u001b[0;34m\u001b[0m\u001b[0m\n\u001b[1;32m      4\u001b[0m \u001b[0;32mfor\u001b[0m \u001b[0mdata\u001b[0m \u001b[0;32min\u001b[0m \u001b[0mtrain_loader\u001b[0m\u001b[0;34m:\u001b[0m\u001b[0;34m\u001b[0m\u001b[0;34m\u001b[0m\u001b[0m\n\u001b[0;32m----> 5\u001b[0;31m     \u001b[0mtemporal_edge_embeddings\u001b[0m \u001b[0;34m=\u001b[0m \u001b[0mmodel\u001b[0m\u001b[0;34m(\u001b[0m\u001b[0mdata\u001b[0m\u001b[0;34m)\u001b[0m\u001b[0;34m\u001b[0m\u001b[0;34m\u001b[0m\u001b[0m\n\u001b[0m",
      "\u001b[0;32m~/anaconda3/envs/nuscenes/lib/python3.9/site-packages/torch/nn/modules/module.py\u001b[0m in \u001b[0;36m_call_impl\u001b[0;34m(self, *input, **kwargs)\u001b[0m\n\u001b[1;32m   1100\u001b[0m         if not (self._backward_hooks or self._forward_hooks or self._forward_pre_hooks or _global_backward_hooks\n\u001b[1;32m   1101\u001b[0m                 or _global_forward_hooks or _global_forward_pre_hooks):\n\u001b[0;32m-> 1102\u001b[0;31m             \u001b[0;32mreturn\u001b[0m \u001b[0mforward_call\u001b[0m\u001b[0;34m(\u001b[0m\u001b[0;34m*\u001b[0m\u001b[0minput\u001b[0m\u001b[0;34m,\u001b[0m \u001b[0;34m**\u001b[0m\u001b[0mkwargs\u001b[0m\u001b[0;34m)\u001b[0m\u001b[0;34m\u001b[0m\u001b[0;34m\u001b[0m\u001b[0m\n\u001b[0m\u001b[1;32m   1103\u001b[0m         \u001b[0;31m# Do not call functions when jit is used\u001b[0m\u001b[0;34m\u001b[0m\u001b[0;34m\u001b[0m\u001b[0m\n\u001b[1;32m   1104\u001b[0m         \u001b[0mfull_backward_hooks\u001b[0m\u001b[0;34m,\u001b[0m \u001b[0mnon_full_backward_hooks\u001b[0m \u001b[0;34m=\u001b[0m \u001b[0;34m[\u001b[0m\u001b[0;34m]\u001b[0m\u001b[0;34m,\u001b[0m \u001b[0;34m[\u001b[0m\u001b[0;34m]\u001b[0m\u001b[0;34m\u001b[0m\u001b[0;34m\u001b[0m\u001b[0m\n",
      "\u001b[0;32m~/projects/spatio_temporal_graph/model/message_passing_module.py\u001b[0m in \u001b[0;36mforward\u001b[0;34m(self, graph_object_mini_batch)\u001b[0m\n\u001b[1;32m     27\u001b[0m         \u001b[0mtemporal_edges_mask\u001b[0m \u001b[0;34m=\u001b[0m \u001b[0mgraph_object_mini_batch\u001b[0m\u001b[0;34m.\u001b[0m\u001b[0mtemporal_edges_mask\u001b[0m\u001b[0;34m\u001b[0m\u001b[0;34m\u001b[0m\u001b[0m\n\u001b[1;32m     28\u001b[0m \u001b[0;34m\u001b[0m\u001b[0m\n\u001b[0;32m---> 29\u001b[0;31m         \u001b[0mself\u001b[0m\u001b[0;34m.\u001b[0m\u001b[0medge_updater\u001b[0m\u001b[0;34m(\u001b[0m\u001b[0medge_index\u001b[0m\u001b[0;34m,\u001b[0m \u001b[0medge_feature\u001b[0m\u001b[0;34m,\u001b[0m \u001b[0mtemporal_edges_mask\u001b[0m\u001b[0;34m)\u001b[0m\u001b[0;34m\u001b[0m\u001b[0;34m\u001b[0m\u001b[0m\n\u001b[0m\u001b[1;32m     30\u001b[0m \u001b[0;34m\u001b[0m\u001b[0m\n\u001b[1;32m     31\u001b[0m         \u001b[0mnodes_embeddings\u001b[0m \u001b[0;34m=\u001b[0m \u001b[0mself\u001b[0m\u001b[0;34m.\u001b[0m\u001b[0mpropagate\u001b[0m\u001b[0;34m(\u001b[0m\u001b[0medge_index\u001b[0m\u001b[0;34m,\u001b[0m \u001b[0msize\u001b[0m\u001b[0;34m=\u001b[0m\u001b[0;34m(\u001b[0m\u001b[0mx\u001b[0m\u001b[0;34m.\u001b[0m\u001b[0msize\u001b[0m\u001b[0;34m(\u001b[0m\u001b[0;36m0\u001b[0m\u001b[0;34m)\u001b[0m\u001b[0;34m,\u001b[0m \u001b[0mx\u001b[0m\u001b[0;34m.\u001b[0m\u001b[0msize\u001b[0m\u001b[0;34m(\u001b[0m\u001b[0;36m0\u001b[0m\u001b[0;34m)\u001b[0m\u001b[0;34m)\u001b[0m\u001b[0;34m,\u001b[0m \u001b[0mx\u001b[0m\u001b[0;34m=\u001b[0m\u001b[0mx\u001b[0m\u001b[0;34m)\u001b[0m\u001b[0;34m\u001b[0m\u001b[0;34m\u001b[0m\u001b[0m\n",
      "\u001b[0;31mTypeError\u001b[0m: edge_updater() takes 2 positional arguments but 4 were given"
     ]
    }
   ],
   "source": [
    "# datapoint = MotGraphList[0].graph_obj\n",
    "# output = model(datapoint)\n",
    "\n",
    "for data in train_loader:\n",
    "    temporal_edge_embeddings = model(data)"
   ]
  },
  {
   "cell_type": "code",
   "execution_count": null,
   "metadata": {},
   "outputs": [],
   "source": [
    "\n",
    "# def train():\n",
    "#     model.train()\n",
    "\n",
    "#     loss_all = 0\n",
    "#     for data in train_loader:\n",
    "#         data = data.to(device)\n",
    "#         optimizer.zero_grad()\n",
    "#         output = model(data)\n",
    "#         label = data.y.to(device)\n",
    "#         loss = crit(output, label)\n",
    "#         loss.backward()\n",
    "#         loss_all += data.num_graphs * loss.item()\n",
    "#         optimizer.step()\n",
    "#     return loss_all / len(graph_list)\n",
    "\n",
    "optimizer = torch.optim.Adam(model.parameters(), lr=0.005)\n",
    "crit = torch.nn.BCELoss()\n",
    "\n",
    "print(train_loader)\n",
    "\n",
    "loss_general = []\n",
    "for epoch in range(4):\n",
    "    model.train()\n",
    "    loss_all = 0\n",
    "    for data in train_loader:\n",
    "        optimizer.zero_grad()\n",
    "        output = model(data)\n",
    "        #Generate random labels for testing pipeline\n",
    "        # generate binary labels \n",
    "        # probabilities_labels = torch.empty(output.shape).uniform_(0, 1).to(device)\n",
    "        # node_labels_binary = torch.bernoulli(probabilities_labels)\n",
    "        loss = crit(output, node_labels_binary)\n",
    "        loss.backward()\n",
    "        loss_all += data.num_graphs * loss.item()\n",
    "        optimizer.step()\n",
    "    loss_normalized =loss_all / len(graph_list)\n",
    "    loss_general.append(loss_normalized)\n",
    "    print('epoch',epoch,'loss_general:',loss_normalized)"
   ]
  },
  {
   "cell_type": "code",
   "execution_count": null,
   "metadata": {},
   "outputs": [],
   "source": []
  }
 ],
 "metadata": {
  "interpreter": {
   "hash": "434941593aed7c9146eb321e17df2547a675a0813990b3197c9f49b3135b1bdb"
  },
  "kernelspec": {
   "display_name": "Python 3 (ipykernel)",
   "language": "python",
   "name": "python3"
  },
  "language_info": {
   "codemirror_mode": {
    "name": "ipython",
    "version": 3
   },
   "file_extension": ".py",
   "mimetype": "text/x-python",
   "name": "python",
   "nbconvert_exporter": "python",
   "pygments_lexer": "ipython3",
   "version": "3.9.7"
  }
 },
 "nbformat": 4,
 "nbformat_minor": 2
}
